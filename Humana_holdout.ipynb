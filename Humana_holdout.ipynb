{
 "cells": [
  {
   "cell_type": "markdown",
   "metadata": {
    "heading_collapsed": true
   },
   "source": [
    "# Initialization"
   ]
  },
  {
   "cell_type": "code",
   "execution_count": 1,
   "metadata": {
    "ExecuteTime": {
     "end_time": "2019-10-13T20:15:51.503216Z",
     "start_time": "2019-10-13T20:15:48.834212Z"
    },
    "hidden": true
   },
   "outputs": [],
   "source": [
    "import numpy as np\n",
    "import pandas as pd\n",
    "import matplotlib.pyplot as plt\n",
    "import seaborn as sns\n",
    "sns.set_style('darkgrid')\n",
    "%matplotlib inline\n",
    "from tqdm import tqdm\n",
    "import joblib"
   ]
  },
  {
   "cell_type": "code",
   "execution_count": 2,
   "metadata": {
    "ExecuteTime": {
     "end_time": "2019-10-13T20:15:51.524244Z",
     "start_time": "2019-10-13T20:15:51.506214Z"
    },
    "hidden": true
   },
   "outputs": [],
   "source": [
    "import qgrid\n",
    "qgrid.enable()\n",
    "qgrid.set_grid_option('forceFitColumns',False)"
   ]
  },
  {
   "cell_type": "code",
   "execution_count": 3,
   "metadata": {
    "ExecuteTime": {
     "end_time": "2019-10-13T20:15:51.661215Z",
     "start_time": "2019-10-13T20:15:51.527213Z"
    },
    "hidden": true
   },
   "outputs": [],
   "source": [
    "# Read in data dictionary\n",
    "HMAHCC_DataDictionary = pd.read_excel('HMAHCC_DataDictionary.xlsx','Event Attributes')"
   ]
  },
  {
   "cell_type": "code",
   "execution_count": 4,
   "metadata": {
    "ExecuteTime": {
     "end_time": "2019-10-13T20:15:55.749240Z",
     "start_time": "2019-10-13T20:15:51.663212Z"
    },
    "hidden": true
   },
   "outputs": [],
   "source": [
    "# Read in test dataset\n",
    "HMAHCC_COMP = pd.read_csv('HMAHCC_HOLDOUT.csv',low_memory=False,na_values='NULL')"
   ]
  },
  {
   "cell_type": "code",
   "execution_count": 5,
   "metadata": {
    "ExecuteTime": {
     "end_time": "2019-10-13T20:15:55.756217Z",
     "start_time": "2019-10-13T20:15:55.751212Z"
    },
    "hidden": true
   },
   "outputs": [],
   "source": [
    "# Rename the columns to match with training data\n",
    "HMAHCC_COMP.columns = ['id', 'event_descr', 'event_attr1', 'event_attr2', 'event_attr3',\n",
    "        'event_attr4', 'event_attr5', 'event_attr6', 'event_attr7',\n",
    "        'event_attr8', 'event_attr9', 'event_attr10',\n",
    "        'PAY_DAY_SUPPLY_CNT', 'PAYABLE_QTY', 'MME', 'DRUG_TYPE', 'Specialty',\n",
    "        'Specialty2', 'Specialty3', 'Days']"
   ]
  },
  {
   "cell_type": "markdown",
   "metadata": {
    "heading_collapsed": true
   },
   "source": [
    "# Preprocess Attributes"
   ]
  },
  {
   "cell_type": "code",
   "execution_count": 6,
   "metadata": {
    "ExecuteTime": {
     "end_time": "2019-10-13T20:15:55.775243Z",
     "start_time": "2019-10-13T20:15:55.759214Z"
    },
    "code_folding": [],
    "hidden": true
   },
   "outputs": [],
   "source": [
    "def preprocess_attr(row):\n",
    "    '''\n",
    "    Proprocess the HMAHCC data to make it have correct attribute names\n",
    "    \n",
    "    :param row: a row from data dictionary file\n",
    "    :return: subset of HMAHCC data with the same event_descr in row\n",
    "    '''\n",
    "    # Get event description of the row\n",
    "    event_description = row[\"Event Description\"]\n",
    "    # Filter the HMAHCC data to the event description in row\n",
    "    COMP_filtered = HMAHCC_COMP.query('event_descr == @event_description')\n",
    "    # Select all columns has 'event_attr' in column names\n",
    "    COMP_attr = COMP_filtered.filter(like='event_attr')\n",
    "    # Rename thoese event_attr columns with the attribute names in row\n",
    "    COMP_attr.columns = row.filter(like='Attribute')\n",
    "    # From attr columns, select columns whose names are not null(not attribute in dictionary)\n",
    "    COMP_attr_not_null = COMP_attr.loc[:, COMP_attr.columns.notnull()]\n",
    "    # Get the the rest of the columns other than attr\n",
    "    COMP_rest = COMP_filtered.iloc[:,~COMP_filtered.columns.str.contains('event_attr')]\n",
    "    # Combine non-attr and attr columns together\n",
    "    COMP = pd.concat([COMP_rest,COMP_attr_not_null],axis=1)\n",
    "    return COMP"
   ]
  },
  {
   "cell_type": "code",
   "execution_count": 7,
   "metadata": {
    "ExecuteTime": {
     "end_time": "2019-10-13T20:15:57.404214Z",
     "start_time": "2019-10-13T20:15:55.777214Z"
    },
    "hidden": true
   },
   "outputs": [
    {
     "name": "stderr",
     "output_type": "stream",
     "text": [
      "16it [00:01,  9.93it/s]\n"
     ]
    }
   ],
   "source": [
    "# Apply preprocess_attr to each row in data dictionary\n",
    "results = [preprocess_attr(row) for n,row in tqdm(HMAHCC_DataDictionary.iterrows())]"
   ]
  },
  {
   "cell_type": "code",
   "execution_count": 8,
   "metadata": {
    "ExecuteTime": {
     "end_time": "2019-10-13T20:15:59.252242Z",
     "start_time": "2019-10-13T20:15:57.407215Z"
    },
    "hidden": true
   },
   "outputs": [],
   "source": [
    "# Concat processed HMAHCC data with different event_descr together\n",
    "HMAHCC_COMP_processed = pd.concat(results, axis=0, ignore_index=True,sort=False)\\\n",
    "    .astype({'Member Responsible Amount': 'float'})"
   ]
  },
  {
   "cell_type": "code",
   "execution_count": 9,
   "metadata": {
    "ExecuteTime": {
     "end_time": "2019-10-13T20:15:59.258218Z",
     "start_time": "2019-10-13T20:15:59.254216Z"
    },
    "hidden": true
   },
   "outputs": [],
   "source": [
    "# Replace space in the column names with _\n",
    "HMAHCC_COMP_processed.columns = HMAHCC_COMP_processed.columns.str.replace(' ', '_')"
   ]
  },
  {
   "cell_type": "markdown",
   "metadata": {
    "heading_collapsed": true
   },
   "source": [
    "# LTOT Identification"
   ]
  },
  {
   "cell_type": "markdown",
   "metadata": {
    "hidden": true
   },
   "source": [
    "## Filtering"
   ]
  },
  {
   "cell_type": "code",
   "execution_count": 10,
   "metadata": {
    "ExecuteTime": {
     "end_time": "2019-10-13T20:15:59.444215Z",
     "start_time": "2019-10-13T20:15:59.260242Z"
    },
    "code_folding": [],
    "hidden": true
   },
   "outputs": [],
   "source": [
    "# Find all rejected and reversal rx, group by unique identifiers of an rx, count reversal times\n",
    "reversal = HMAHCC_COMP_processed\\\n",
    "    .query(\"event_descr=='RX Claim - Rejected'\")\\\n",
    "    .query('Status_Code==\"REVERSAL\"')\\\n",
    "    .groupby(['id','Days','Brand_Name','Generic_Name','Member_Responsible_Amount'])\\\n",
    "    .size().to_frame('reversal_times')"
   ]
  },
  {
   "cell_type": "code",
   "execution_count": 11,
   "metadata": {
    "ExecuteTime": {
     "end_time": "2019-10-13T20:16:00.098240Z",
     "start_time": "2019-10-13T20:15:59.446212Z"
    },
    "hidden": true
   },
   "outputs": [],
   "source": [
    "# Join reversal rx to paid scripts, find the paid scripts that get rejected, also count times the patient paid\n",
    "# This is for avoiding the situation the first paid script get rejected, but the second one goes through\n",
    "# reversal_multiplier == 1 would be the paid scripts that get rejected\n",
    "paid_reversal = HMAHCC_COMP_processed\\\n",
    "    .query(\"event_descr=='RX Claim - Paid'\")\\\n",
    "    .merge(reversal,on=['id','Days','Brand_Name','Generic_Name','Member_Responsible_Amount'],\n",
    "           how='inner',suffixes=['','_right'])\\\n",
    "    .groupby(['id','event_descr','Days','Brand_Name','Generic_Name','Member_Responsible_Amount','reversal_times'])\\\n",
    "    .size().to_frame('paid_times').reset_index()\\\n",
    "    .assign(actual_times=lambda df:df.paid_times - df.reversal_times)\\\n",
    "    .assign(reversal_multiplier=lambda df:df.actual_times/df.paid_times)\\\n",
    "    .assign(reversal_multiplier=lambda df: np.where(df.reversal_multiplier<0,0,df.reversal_multiplier))\\\n",
    "    .drop(columns=['reversal_times','actual_times','paid_times','actual_times'])"
   ]
  },
  {
   "cell_type": "code",
   "execution_count": 12,
   "metadata": {
    "ExecuteTime": {
     "end_time": "2019-10-13T20:16:03.462211Z",
     "start_time": "2019-10-13T20:16:00.099214Z"
    },
    "hidden": true
   },
   "outputs": [],
   "source": [
    "# Join reversal adjustment to HMAHCC data\n",
    "HMAHCC_COMP_processed_reversed = HMAHCC_COMP_processed\\\n",
    "    .merge(paid_reversal,\n",
    "           on=['id','event_descr','Days','Brand_Name','Generic_Name','Member_Responsible_Amount'],\n",
    "           how='left')"
   ]
  },
  {
   "cell_type": "markdown",
   "metadata": {
    "heading_collapsed": true
   },
   "source": [
    "# Feature Engineering"
   ]
  },
  {
   "cell_type": "code",
   "execution_count": 13,
   "metadata": {
    "ExecuteTime": {
     "end_time": "2019-10-13T20:16:03.467215Z",
     "start_time": "2019-10-13T20:16:03.464213Z"
    },
    "hidden": true
   },
   "outputs": [],
   "source": [
    "# Read in preprocessed HMAHCC data\n",
    "HMAHCC = HMAHCC_COMP_processed_reversed"
   ]
  },
  {
   "cell_type": "code",
   "execution_count": 14,
   "metadata": {
    "ExecuteTime": {
     "end_time": "2019-10-13T20:16:07.348249Z",
     "start_time": "2019-10-13T20:16:03.469213Z"
    },
    "code_folding": [],
    "hidden": true
   },
   "outputs": [],
   "source": [
    "# Get state from location column, filter data to Days<=0, remove rejected scripts, fill na in descriptive columns\n",
    "HMAHCC = HMAHCC\\\n",
    "    .assign(state = lambda df: df.Location.fillna('').str.split(', ').apply(lambda x:x[-1]))\\\n",
    "    .query('reversal_multiplier!=0')\\\n",
    "    .fillna({'Diagnosis':'','Place_of_Treatment':'','Drug_Group_Description':'',\n",
    "             'DRUG_TYPE':''})"
   ]
  },
  {
   "cell_type": "markdown",
   "metadata": {
    "heading_collapsed": true,
    "hidden": true
   },
   "source": [
    "## Inbound Call by Mbr"
   ]
  },
  {
   "cell_type": "markdown",
   "metadata": {
    "hidden": true
   },
   "source": [
    "### State"
   ]
  },
  {
   "cell_type": "code",
   "execution_count": 15,
   "metadata": {
    "ExecuteTime": {
     "end_time": "2019-10-13T20:16:07.353216Z",
     "start_time": "2019-10-13T20:16:07.350213Z"
    },
    "code_folding": [],
    "hidden": true
   },
   "outputs": [],
   "source": [
    "# Get state for each patient, for patients who has multiple states, get the one with max count\n",
    "# state = HMAHCC\\\n",
    "#     .query('event_descr == \"Inbound Call by Mbr\"')\\\n",
    "#     .groupby(['id','state'])\\\n",
    "#     .size().to_frame('state_count').reset_index()\\\n",
    "#     .set_index('id')\\\n",
    "#     .assign(state_max=lambda df:df.groupby('id').state_count.max())\\\n",
    "#     .query('state_count == state_max')\\\n",
    "#     [['state']].reset_index()\\\n",
    "#     .sort_values(['id','state'],ascending=[True,False])\\\n",
    "#     .drop_duplicates(subset='id')\\\n",
    "#     .set_index('id').pipe(pd.get_dummies)"
   ]
  },
  {
   "cell_type": "markdown",
   "metadata": {
    "hidden": true
   },
   "source": [
    "### Frequency"
   ]
  },
  {
   "cell_type": "code",
   "execution_count": 16,
   "metadata": {
    "ExecuteTime": {
     "end_time": "2019-10-13T20:16:07.453214Z",
     "start_time": "2019-10-13T20:16:07.356213Z"
    },
    "hidden": true
   },
   "outputs": [],
   "source": [
    "# Calculate the frequency of inbound call by member\n",
    "freq_inbound_call_by_mbr = HMAHCC\\\n",
    "    .query('event_descr == \"Inbound Call by Mbr\"')\\\n",
    "    .groupby('id')\\\n",
    "    .size().to_frame('freq_inbound_call_by_mbr')"
   ]
  },
  {
   "cell_type": "markdown",
   "metadata": {
    "hidden": true
   },
   "source": [
    "### Recency"
   ]
  },
  {
   "cell_type": "code",
   "execution_count": 17,
   "metadata": {
    "ExecuteTime": {
     "end_time": "2019-10-13T20:16:07.571213Z",
     "start_time": "2019-10-13T20:16:07.455216Z"
    },
    "hidden": true
   },
   "outputs": [],
   "source": [
    "# Calculate the recency of inbound call by member\n",
    "rec_inbound_call_by_mbr = HMAHCC\\\n",
    "    .query('event_descr == \"Inbound Call by Mbr\"')\\\n",
    "    .groupby('id')\\\n",
    "    .Days.max().abs().to_frame('rec_inbound_call_by_mbr')"
   ]
  },
  {
   "cell_type": "markdown",
   "metadata": {
    "heading_collapsed": true,
    "hidden": true
   },
   "source": [
    "## Inbound Call by Other"
   ]
  },
  {
   "cell_type": "markdown",
   "metadata": {
    "hidden": true
   },
   "source": [
    "### Frequency"
   ]
  },
  {
   "cell_type": "code",
   "execution_count": 18,
   "metadata": {
    "ExecuteTime": {
     "end_time": "2019-10-13T20:16:07.630212Z",
     "start_time": "2019-10-13T20:16:07.573214Z"
    },
    "hidden": true
   },
   "outputs": [],
   "source": [
    "# Calculate the frequency of inbound call by other\n",
    "freq_inbound_call_by_other = HMAHCC\\\n",
    "    .query('event_descr == \"Inbound Call by Other\"')\\\n",
    "    .groupby('id')\\\n",
    "    .size().to_frame('freq_inbound_call_by_other')"
   ]
  },
  {
   "cell_type": "markdown",
   "metadata": {
    "hidden": true
   },
   "source": [
    "### Recency"
   ]
  },
  {
   "cell_type": "code",
   "execution_count": 19,
   "metadata": {
    "ExecuteTime": {
     "end_time": "2019-10-13T20:16:07.690215Z",
     "start_time": "2019-10-13T20:16:07.632213Z"
    },
    "code_folding": [],
    "hidden": true
   },
   "outputs": [],
   "source": [
    "# Calculate the recency of inbound call by other\n",
    "rec_inbound_call_by_other = HMAHCC\\\n",
    "    .query('event_descr == \"Inbound Call by Other\"')\\\n",
    "    .groupby('id')\\\n",
    "    .Days.max().abs().to_frame('rec_inbound_call_by_other')"
   ]
  },
  {
   "cell_type": "markdown",
   "metadata": {
    "heading_collapsed": true,
    "hidden": true
   },
   "source": [
    "## Inbound Call by Prov"
   ]
  },
  {
   "cell_type": "markdown",
   "metadata": {
    "hidden": true
   },
   "source": [
    "### Frequency"
   ]
  },
  {
   "cell_type": "code",
   "execution_count": 20,
   "metadata": {
    "ExecuteTime": {
     "end_time": "2019-10-13T20:16:07.761213Z",
     "start_time": "2019-10-13T20:16:07.692215Z"
    },
    "hidden": true
   },
   "outputs": [],
   "source": [
    "# Calculate the frequency of inbound call by provider\n",
    "freq_inbound_call_by_prov = HMAHCC\\\n",
    "    .query('event_descr == \"Inbound Call by Prov\"')\\\n",
    "    .groupby('id')\\\n",
    "    .size().to_frame('freq_inbound_call_by_prov')"
   ]
  },
  {
   "cell_type": "markdown",
   "metadata": {
    "hidden": true
   },
   "source": [
    "### Recency"
   ]
  },
  {
   "cell_type": "code",
   "execution_count": 21,
   "metadata": {
    "ExecuteTime": {
     "end_time": "2019-10-13T20:16:07.843212Z",
     "start_time": "2019-10-13T20:16:07.763214Z"
    },
    "hidden": true
   },
   "outputs": [],
   "source": [
    "# Calculate the recency of inbound call by provider\n",
    "rec_inbound_call_by_prov = HMAHCC\\\n",
    "    .query('event_descr == \"Inbound Call by Prov\"')\\\n",
    "    .groupby('id')\\\n",
    "    .Days.max().abs().to_frame('rec_inbound_call_by_prov')"
   ]
  },
  {
   "cell_type": "markdown",
   "metadata": {
    "heading_collapsed": true,
    "hidden": true
   },
   "source": [
    "## Fully Paid Claim"
   ]
  },
  {
   "cell_type": "markdown",
   "metadata": {
    "hidden": true
   },
   "source": [
    "### Diagnosis Frequency"
   ]
  },
  {
   "cell_type": "code",
   "execution_count": 22,
   "metadata": {
    "ExecuteTime": {
     "end_time": "2019-10-13T20:16:09.583212Z",
     "start_time": "2019-10-13T20:16:07.845215Z"
    },
    "hidden": true
   },
   "outputs": [],
   "source": [
    "# Identify top 5 diagnosis from diagnosis column, and the rest assigned to others\n",
    "fully_paid_claim_diag = HMAHCC\\\n",
    "    .query('event_descr == \"Fully Paid Claim\"')\\\n",
    "    .assign(diag_hypertension = lambda df:df.Diagnosis.str.contains('HYPERTENSION'))\\\n",
    "    .assign(diag_diabete = lambda df:df.Diagnosis.str.contains('DIABETE'))\\\n",
    "    .assign(diag_CAD = lambda df:df.Diagnosis.str.contains('CORONARY'))\\\n",
    "    .assign(diag_CPD = lambda df:df.Diagnosis.str.contains('PULMONARY'))\\\n",
    "    .assign(diag_CHF = lambda df:df.Diagnosis.str.contains('HEART FAILURE'))\\\n",
    "    .assign(diag_other = lambda df: (~df.diag_hypertension)&(~df.diag_diabete)&\n",
    "            (~df.diag_CAD)&(~df.diag_CPD)&(~df.diag_CHF))"
   ]
  },
  {
   "cell_type": "code",
   "execution_count": 23,
   "metadata": {
    "ExecuteTime": {
     "end_time": "2019-10-13T20:16:09.669215Z",
     "start_time": "2019-10-13T20:16:09.589214Z"
    },
    "hidden": true
   },
   "outputs": [],
   "source": [
    "# Get the frequency of top 5 diagnosis and other\n",
    "freq_diag_fully_paid_claim = fully_paid_claim_diag\\\n",
    "    .groupby('id')\\\n",
    "    [['diag_hypertension','diag_diabete','diag_CAD','diag_CPD','diag_CHF','diag_other']].sum()\\\n",
    "    .rename(columns=lambda x:'freq_'+x+'_fully_paid_claim')"
   ]
  },
  {
   "cell_type": "markdown",
   "metadata": {
    "hidden": true
   },
   "source": [
    "### Diagnosis Recency"
   ]
  },
  {
   "cell_type": "code",
   "execution_count": 24,
   "metadata": {
    "ExecuteTime": {
     "end_time": "2019-10-13T20:16:10.163212Z",
     "start_time": "2019-10-13T20:16:09.673215Z"
    },
    "hidden": true
   },
   "outputs": [],
   "source": [
    "# Get the recency of top 5 diagnosis and other\n",
    "rec_diag_fully_paid_claim = fully_paid_claim_diag\\\n",
    "    .melt(['id','Days'],['diag_hypertension','diag_diabete','diag_CAD','diag_CPD','diag_CHF','diag_other'],\n",
    "          'diag')\\\n",
    "    .query('value')\\\n",
    "    .groupby(['id','diag'])\\\n",
    "    .Days.max().abs().unstack().rename(columns=lambda x:'rec_'+x+'_fully_paid_claim')"
   ]
  },
  {
   "cell_type": "markdown",
   "metadata": {
    "hidden": true
   },
   "source": [
    "### Monetary"
   ]
  },
  {
   "cell_type": "code",
   "execution_count": 25,
   "metadata": {
    "ExecuteTime": {
     "end_time": "2019-10-13T20:16:10.415214Z",
     "start_time": "2019-10-13T20:16:10.165214Z"
    },
    "hidden": true
   },
   "outputs": [],
   "source": [
    "# Get the average and total money spent for each patient\n",
    "mon_full_paid_claim = HMAHCC\\\n",
    "    .query('event_descr == \"Fully Paid Claim\"')\\\n",
    "    .groupby('id')\\\n",
    "    .Member_Responsible_Amount.agg(['mean','sum'])\\\n",
    "    .rename(columns=lambda x:'mon_full_paid_claim_'+x)"
   ]
  },
  {
   "cell_type": "markdown",
   "metadata": {
    "heading_collapsed": true,
    "hidden": true
   },
   "source": [
    "## New diagnosis - CAD, Diabetes, Hypertension, CPD, CHF"
   ]
  },
  {
   "cell_type": "markdown",
   "metadata": {
    "hidden": true
   },
   "source": [
    "### Frequency"
   ]
  },
  {
   "cell_type": "code",
   "execution_count": 26,
   "metadata": {
    "ExecuteTime": {
     "end_time": "2019-10-13T20:16:10.421212Z",
     "start_time": "2019-10-13T20:16:10.417217Z"
    },
    "hidden": true
   },
   "outputs": [],
   "source": [
    "top5_disease = ['CAD', 'Diabetes', 'Hypertension', 'CPD', 'CHF']"
   ]
  },
  {
   "cell_type": "code",
   "execution_count": 27,
   "metadata": {
    "ExecuteTime": {
     "end_time": "2019-10-13T20:16:10.436217Z",
     "start_time": "2019-10-13T20:16:10.423214Z"
    },
    "hidden": true
   },
   "outputs": [],
   "source": [
    "def new_diag_freq(disease):\n",
    "    '''\n",
    "    Calculate the frequency of frequency of new diagnosis disease\n",
    "    \n",
    "    :param disease: one of top5 disease\n",
    "    :return: frequency of new diagnosis disease\n",
    "    '''\n",
    "    return HMAHCC\\\n",
    "        .query(f'event_descr == \"New diagnosis - {disease}\"')\\\n",
    "        .groupby('id')\\\n",
    "        .size().to_frame(f'new_diag_{disease}')"
   ]
  },
  {
   "cell_type": "code",
   "execution_count": 28,
   "metadata": {
    "ExecuteTime": {
     "end_time": "2019-10-13T20:16:10.682215Z",
     "start_time": "2019-10-13T20:16:10.438215Z"
    },
    "hidden": true
   },
   "outputs": [
    {
     "name": "stderr",
     "output_type": "stream",
     "text": [
      "100%|████████████████████████████████████████████████████████████████████████████████████| 5/5 [00:00<00:00, 29.07it/s]\n"
     ]
    }
   ],
   "source": [
    "# For each of top 5 diseases, get the frequency of new diagnosis disease\n",
    "results = [new_diag_freq(disease) for disease in tqdm(top5_disease)]"
   ]
  },
  {
   "cell_type": "code",
   "execution_count": 29,
   "metadata": {
    "ExecuteTime": {
     "end_time": "2019-10-13T20:16:10.695214Z",
     "start_time": "2019-10-13T20:16:10.684214Z"
    },
    "hidden": true
   },
   "outputs": [],
   "source": [
    "# Concat new diagnosis frequency for top 5 diseases\n",
    "freq_new_diag = pd.concat(results, axis=1,sort=False).fillna(0)"
   ]
  },
  {
   "cell_type": "markdown",
   "metadata": {
    "hidden": true
   },
   "source": [
    "### Recency"
   ]
  },
  {
   "cell_type": "code",
   "execution_count": 30,
   "metadata": {
    "ExecuteTime": {
     "end_time": "2019-10-13T20:16:10.710215Z",
     "start_time": "2019-10-13T20:16:10.697213Z"
    },
    "hidden": true
   },
   "outputs": [],
   "source": [
    "def new_diag_rec(disease):\n",
    "    '''\n",
    "    Calculate the recency of frequency of new diagnosis disease\n",
    "    \n",
    "    :param disease: one of top5 disease\n",
    "    :return: recency of new diagnosis disease\n",
    "    '''\n",
    "    return HMAHCC\\\n",
    "        .query(f'event_descr == \"New diagnosis - {disease}\"')\\\n",
    "        .groupby('id')\\\n",
    "        .Days.max().abs().to_frame(f'rec_new_diag_{disease}')"
   ]
  },
  {
   "cell_type": "code",
   "execution_count": 31,
   "metadata": {
    "ExecuteTime": {
     "end_time": "2019-10-13T20:16:10.928214Z",
     "start_time": "2019-10-13T20:16:10.712213Z"
    },
    "hidden": true
   },
   "outputs": [
    {
     "name": "stderr",
     "output_type": "stream",
     "text": [
      "100%|████████████████████████████████████████████████████████████████████████████████████| 5/5 [00:00<00:00, 25.00it/s]\n"
     ]
    }
   ],
   "source": [
    "# For each of top 5 diseases, get the recency of new diagnosis disease\n",
    "results = [new_diag_rec(disease) for disease in tqdm(top5_disease)]"
   ]
  },
  {
   "cell_type": "code",
   "execution_count": 32,
   "metadata": {
    "ExecuteTime": {
     "end_time": "2019-10-13T20:16:10.939214Z",
     "start_time": "2019-10-13T20:16:10.930214Z"
    },
    "hidden": true
   },
   "outputs": [],
   "source": [
    "# Concat new diagnosis recency for top 5 diseases\n",
    "rec_new_diag = pd.concat(results, axis=1,sort=False)"
   ]
  },
  {
   "cell_type": "markdown",
   "metadata": {
    "heading_collapsed": true,
    "hidden": true
   },
   "source": [
    "## Surgery"
   ]
  },
  {
   "cell_type": "markdown",
   "metadata": {
    "hidden": true
   },
   "source": [
    "### Frequency surgery diagnosis"
   ]
  },
  {
   "cell_type": "code",
   "execution_count": 33,
   "metadata": {
    "ExecuteTime": {
     "end_time": "2019-10-13T20:16:13.253216Z",
     "start_time": "2019-10-13T20:16:10.941214Z"
    },
    "hidden": true
   },
   "outputs": [],
   "source": [
    "# Get all the words from diagnosis column, count the term frequency of each word\n",
    "from sklearn.feature_extraction.text import CountVectorizer\n",
    "vec = CountVectorizer(stop_words='english')\n",
    "tdm = vec.fit_transform(HMAHCC.query('event_descr == \"Surgery\"').Diagnosis)\n",
    "term_frequency = pd.Series(np.array(tdm.sum(axis=0)).reshape(-1),vec.get_feature_names())"
   ]
  },
  {
   "cell_type": "code",
   "execution_count": 34,
   "metadata": {
    "ExecuteTime": {
     "end_time": "2019-10-13T20:16:13.261216Z",
     "start_time": "2019-10-13T20:16:13.255213Z"
    },
    "hidden": true
   },
   "outputs": [],
   "source": [
    "# Manually select top 100 disease or human organs that may related to LTOT\n",
    "top_surgery = [\"malignant\",\"neoplasm\",\"colon\",\"cataract\",\"chronic\",\"screening\",\"lumbar\",\n",
    "               \"eye\",\"radiculopathy\",\"coronary\",\"pain\",\"spondylosis\",\"lumbosacral\",\n",
    "               \"myelopathy\",\"ulcer\",\"artery\",\"benign\",\"neoplasms\",\"breast\",\"initial\",\"heart\",\n",
    "               \"atherosclerosis\",\"angina\",\"skin\",\"history\",\"pectoris\",\"foot\",\"intervertebral\",\n",
    "               \"knee\",\"atherosclerotic\",\"sclerosis\",\"hernia\",\"gangrene\",\"primary\",\"stenosis\",\n",
    "               \"hemorrhage\",\"polyps\",\"colonic\",\"bleeding\",\"female\",\"kidney\",\"leg\",\n",
    "               \"unilateral\",\"gastritis\",\"cholecystitis\",\"cervical\",\"diabetes\",\"prostate\",\n",
    "               \"esophageal\",\"acute\",\"disorders\",\"limb\",\"shoulder\",\"venous\",\"fracture\",\n",
    "               \"urinary\",\"spinal\",\"mellitus\",\"pressure\",\"gallbladder\",\"neuritis\",\"secondary\",\n",
    "               \"osteoarthritis\",\"radiculitis\",\"thoracic\",\"inguinal\",\"recurrent\",\"carcinoma\",\n",
    "               \"tear\",\"arteries\",\"bladder\",\"carpal\",\"dysphagia\",\"esophagus\",\"reflux\",\"hip\",\n",
    "               \"chest\",\"meniscus\",\"esophagitis\",\"senile\",\"ankle\",\"anemia\",\"polyp\",\"wound\",\n",
    "               \"rectum\",\"cardiac\",\"claudication\",\"ureter\",\"atrial\",\"renal\",\"sacroiliitis\",\n",
    "               \"gastro\",\"fibrillation\",\"hypertension\",\"vascular\",\"lung\",\"osteomyelitis\",\n",
    "               \"intestine\",\"anus\",\"rupture\"]"
   ]
  },
  {
   "cell_type": "code",
   "execution_count": 35,
   "metadata": {
    "ExecuteTime": {
     "end_time": "2019-10-13T20:16:13.329214Z",
     "start_time": "2019-10-13T20:16:13.263215Z"
    },
    "hidden": true
   },
   "outputs": [],
   "source": [
    "# Get the index of each top 100 words in the term document matrix\n",
    "word_index = [vec.get_feature_names().index(word) for word in top_surgery]"
   ]
  },
  {
   "cell_type": "code",
   "execution_count": 36,
   "metadata": {
    "ExecuteTime": {
     "end_time": "2019-10-13T20:16:13.448212Z",
     "start_time": "2019-10-13T20:16:13.331214Z"
    },
    "hidden": true
   },
   "outputs": [],
   "source": [
    "# Calculate the frequency of top 100 words\n",
    "freq_surgery_diag = pd.DataFrame(tdm[:,word_index].todense(),columns=top_surgery)\\\n",
    "    .rename(columns=lambda x: 'freq_surgery_diag_'+x)\\\n",
    "    .set_index(HMAHCC.query('event_descr == \"Surgery\"').id)\\\n",
    "    .groupby('id')\\\n",
    "    .sum()"
   ]
  },
  {
   "cell_type": "markdown",
   "metadata": {
    "hidden": true
   },
   "source": [
    "### Frequency place of treatment"
   ]
  },
  {
   "cell_type": "code",
   "execution_count": 37,
   "metadata": {
    "ExecuteTime": {
     "end_time": "2019-10-13T20:16:13.516213Z",
     "start_time": "2019-10-13T20:16:13.450214Z"
    },
    "hidden": true
   },
   "outputs": [],
   "source": [
    "# Calculate the frequency of place of treatment for surgery\n",
    "freq_surgery_place = HMAHCC\\\n",
    "    .query('event_descr == \"Surgery\"')\\\n",
    "    .groupby(['id','Place_of_Treatment'])\\\n",
    "    .size().unstack(fill_value=0)\\\n",
    "    .rename(columns=lambda x:'freq_surgery_place_'+x)"
   ]
  },
  {
   "cell_type": "markdown",
   "metadata": {
    "hidden": true
   },
   "source": [
    "### Recency place of treatment"
   ]
  },
  {
   "cell_type": "code",
   "execution_count": 38,
   "metadata": {
    "ExecuteTime": {
     "end_time": "2019-10-13T20:16:13.574213Z",
     "start_time": "2019-10-13T20:16:13.518223Z"
    },
    "hidden": true
   },
   "outputs": [],
   "source": [
    "# Calculate the recency of place of treatment for surgery\n",
    "rec_surgery_place = HMAHCC\\\n",
    "    .query('event_descr == \"Surgery\"')\\\n",
    "    .groupby(['id','Place_of_Treatment'])\\\n",
    "    .Days.max().abs().unstack().rename(columns=lambda x:'rec_surgery_place_'+x)"
   ]
  },
  {
   "cell_type": "markdown",
   "metadata": {
    "heading_collapsed": true,
    "hidden": true
   },
   "source": [
    "## New provider"
   ]
  },
  {
   "cell_type": "markdown",
   "metadata": {
    "hidden": true
   },
   "source": [
    "### Frequency"
   ]
  },
  {
   "cell_type": "code",
   "execution_count": 39,
   "metadata": {
    "ExecuteTime": {
     "end_time": "2019-10-13T20:16:13.636213Z",
     "start_time": "2019-10-13T20:16:13.576213Z"
    },
    "hidden": true
   },
   "outputs": [],
   "source": [
    "# Calculate the frequency of new provider\n",
    "freq_new_provider = HMAHCC\\\n",
    "    .query('event_descr == \"New provider\"')\\\n",
    "    .groupby(['id'])\\\n",
    "    .size().to_frame('freq_new_provider')"
   ]
  },
  {
   "cell_type": "markdown",
   "metadata": {
    "hidden": true
   },
   "source": [
    "### Recency"
   ]
  },
  {
   "cell_type": "code",
   "execution_count": 40,
   "metadata": {
    "ExecuteTime": {
     "end_time": "2019-10-13T20:16:13.708213Z",
     "start_time": "2019-10-13T20:16:13.638214Z"
    },
    "hidden": true
   },
   "outputs": [],
   "source": [
    "# Calculate the recency of new provider\n",
    "rec_new_provider = HMAHCC\\\n",
    "    .query('event_descr == \"New provider\"')\\\n",
    "    .groupby(['id'])\\\n",
    "    .Days.max().abs().to_frame('rec_new_provider')"
   ]
  },
  {
   "cell_type": "markdown",
   "metadata": {
    "heading_collapsed": true,
    "hidden": true
   },
   "source": [
    "## RX Claim - Paid"
   ]
  },
  {
   "cell_type": "markdown",
   "metadata": {
    "hidden": true
   },
   "source": [
    "### Frequency"
   ]
  },
  {
   "cell_type": "code",
   "execution_count": 41,
   "metadata": {
    "ExecuteTime": {
     "end_time": "2019-10-13T20:16:14.125212Z",
     "start_time": "2019-10-13T20:16:13.710216Z"
    },
    "hidden": true
   },
   "outputs": [],
   "source": [
    "# Calculate the frequency of each drug each patient uses\n",
    "freq_rx_claim_paid = HMAHCC\\\n",
    "    .query('event_descr == \"RX Claim - Paid\"')\\\n",
    "    .groupby(['id','Drug_Group_Description'])\\\n",
    "    .size().unstack(fill_value=0)\\\n",
    "    .rename(columns=lambda x:'freq_paid_'+x)"
   ]
  },
  {
   "cell_type": "markdown",
   "metadata": {
    "hidden": true
   },
   "source": [
    "### Recency"
   ]
  },
  {
   "cell_type": "code",
   "execution_count": 42,
   "metadata": {
    "ExecuteTime": {
     "end_time": "2019-10-13T20:16:14.523254Z",
     "start_time": "2019-10-13T20:16:14.127213Z"
    },
    "hidden": true
   },
   "outputs": [],
   "source": [
    "# Calculate the recency of each drug each patient uses\n",
    "rec_rx_claim_paid = HMAHCC\\\n",
    "    .query('event_descr == \"RX Claim - Paid\"')\\\n",
    "    .groupby(['id','Drug_Group_Description'])\\\n",
    "    .Days.max().abs().unstack()\\\n",
    "    .rename(columns=lambda x:'rec_paid_'+x)"
   ]
  },
  {
   "cell_type": "markdown",
   "metadata": {
    "hidden": true
   },
   "source": [
    "### Monetary"
   ]
  },
  {
   "cell_type": "code",
   "execution_count": 43,
   "metadata": {
    "ExecuteTime": {
     "end_time": "2019-10-13T20:16:14.860242Z",
     "start_time": "2019-10-13T20:16:14.525212Z"
    },
    "hidden": true
   },
   "outputs": [],
   "source": [
    "# Calculate the average and total money each patient spends on each drug\n",
    "mon_rx_claim_paid = HMAHCC\\\n",
    "    .query('event_descr == \"RX Claim - Paid\"')\\\n",
    "    .groupby('id')\\\n",
    "    .Member_Responsible_Amount.agg(['mean','sum'])\\\n",
    "    .rename(columns=lambda x:'mon_paid_'+x)"
   ]
  },
  {
   "cell_type": "markdown",
   "metadata": {
    "hidden": true
   },
   "source": [
    "### PAY_DAY_SUPPLY_CNT"
   ]
  },
  {
   "cell_type": "code",
   "execution_count": 44,
   "metadata": {
    "ExecuteTime": {
     "end_time": "2019-10-13T20:16:15.182247Z",
     "start_time": "2019-10-13T20:16:14.861241Z"
    },
    "hidden": true
   },
   "outputs": [],
   "source": [
    "# Calculate the average and total days supply each patient has on each drug\n",
    "pay_day_supply_cnt = HMAHCC\\\n",
    "    .query('event_descr == \"RX Claim - Paid\"')\\\n",
    "    .groupby('id')\\\n",
    "    .PAY_DAY_SUPPLY_CNT.agg(['mean','sum'])\\\n",
    "    .rename(columns=lambda x:x+'_pay_day_supply_cnt')"
   ]
  },
  {
   "cell_type": "markdown",
   "metadata": {
    "hidden": true
   },
   "source": [
    "### MME"
   ]
  },
  {
   "cell_type": "markdown",
   "metadata": {
    "hidden": true
   },
   "source": [
    "#### Mean & Sum"
   ]
  },
  {
   "cell_type": "code",
   "execution_count": 45,
   "metadata": {
    "ExecuteTime": {
     "end_time": "2019-10-13T20:16:15.702228Z",
     "start_time": "2019-10-13T20:16:15.184215Z"
    },
    "hidden": true
   },
   "outputs": [],
   "source": [
    "# Calculate the average and total MME each patient has on each drug\n",
    "MME = HMAHCC\\\n",
    "    .query('event_descr == \"RX Claim - Paid\"')\\\n",
    "    .assign(MME_per_rx=lambda df:df.MME*df.PAY_DAY_SUPPLY_CNT)\\\n",
    "    .groupby('id')\\\n",
    "    .MME_per_rx.agg(['mean','sum'])\\\n",
    "    .rename(columns=lambda x:x+'_MME_per_rx')"
   ]
  },
  {
   "cell_type": "markdown",
   "metadata": {
    "hidden": true
   },
   "source": [
    "#### Frequency"
   ]
  },
  {
   "cell_type": "code",
   "execution_count": 46,
   "metadata": {
    "ExecuteTime": {
     "end_time": "2019-10-13T20:16:16.016212Z",
     "start_time": "2019-10-13T20:16:15.704212Z"
    },
    "hidden": true
   },
   "outputs": [],
   "source": [
    "# Calculate the frequency of MME drug each patient uses\n",
    "freq_MME = HMAHCC\\\n",
    "    .query('event_descr == \"RX Claim - Paid\"')\\\n",
    "    .query('MME.notnull()',engine='python')\\\n",
    "    .groupby('id')\\\n",
    "    .size()\\\n",
    "    .to_frame('freq_MME')"
   ]
  },
  {
   "cell_type": "markdown",
   "metadata": {
    "hidden": true
   },
   "source": [
    "#### Recency"
   ]
  },
  {
   "cell_type": "code",
   "execution_count": 47,
   "metadata": {
    "ExecuteTime": {
     "end_time": "2019-10-13T20:16:16.345214Z",
     "start_time": "2019-10-13T20:16:16.019216Z"
    },
    "hidden": true
   },
   "outputs": [],
   "source": [
    "# Calculate the recency of MME drug each patient uses\n",
    "rec_MME = HMAHCC\\\n",
    "    .query('event_descr == \"RX Claim - Paid\"')\\\n",
    "    .query('MME.notnull()',engine='python')\\\n",
    "    .query('Days<0')\\\n",
    "    .groupby('id')\\\n",
    "    .Days.max().abs()\\\n",
    "    .to_frame('rec_MME')"
   ]
  },
  {
   "cell_type": "markdown",
   "metadata": {
    "hidden": true
   },
   "source": [
    "### DRUG_TYPE"
   ]
  },
  {
   "cell_type": "code",
   "execution_count": 48,
   "metadata": {
    "ExecuteTime": {
     "end_time": "2019-10-13T20:16:16.720213Z",
     "start_time": "2019-10-13T20:16:16.347215Z"
    },
    "hidden": true
   },
   "outputs": [],
   "source": [
    "# Calculate the frequency of each drug type for each patient\n",
    "drug_type = HMAHCC\\\n",
    "    .query('event_descr == \"RX Claim - Paid\"')\\\n",
    "    .groupby(['id','DRUG_TYPE'])\\\n",
    "    .size().unstack(fill_value=0)\\\n",
    "    .rename(columns=lambda x:'freq_drug_type_'+x)"
   ]
  },
  {
   "cell_type": "markdown",
   "metadata": {
    "hidden": true
   },
   "source": [
    "### Specialty"
   ]
  },
  {
   "cell_type": "code",
   "execution_count": 49,
   "metadata": {
    "ExecuteTime": {
     "end_time": "2019-10-13T20:16:17.121213Z",
     "start_time": "2019-10-13T20:16:16.722214Z"
    },
    "hidden": true
   },
   "outputs": [],
   "source": [
    "# Calculate the frequency of each specialty for each patient\n",
    "specialty = HMAHCC\\\n",
    "    .query('event_descr == \"RX Claim - Paid\"')\\\n",
    "    .groupby(['id','Specialty'])\\\n",
    "    .size().unstack(fill_value=0)\\\n",
    "    .rename(columns=lambda x:'freq_specialty_'+x)"
   ]
  },
  {
   "cell_type": "markdown",
   "metadata": {
    "heading_collapsed": true,
    "hidden": true
   },
   "source": [
    "## RX Claim - New Drug"
   ]
  },
  {
   "cell_type": "markdown",
   "metadata": {
    "hidden": true
   },
   "source": [
    "### Frequency"
   ]
  },
  {
   "cell_type": "code",
   "execution_count": 50,
   "metadata": {
    "ExecuteTime": {
     "end_time": "2019-10-13T20:16:17.219251Z",
     "start_time": "2019-10-13T20:16:17.123215Z"
    },
    "code_folding": [],
    "hidden": true
   },
   "outputs": [],
   "source": [
    "# Calculate the frequency of each new drug each patient uses\n",
    "freq_rx_claim_new_drug = HMAHCC\\\n",
    "    .query('event_descr == \"RX Claim - New Drug\"')\\\n",
    "    .groupby(['id','Drug_Group_Description'])\\\n",
    "    .size().unstack(fill_value=0)\\\n",
    "    .rename(columns=lambda x:'freq_new_'+x)"
   ]
  },
  {
   "cell_type": "markdown",
   "metadata": {
    "hidden": true
   },
   "source": [
    "### Recency"
   ]
  },
  {
   "cell_type": "code",
   "execution_count": 51,
   "metadata": {
    "ExecuteTime": {
     "end_time": "2019-10-13T20:16:17.328216Z",
     "start_time": "2019-10-13T20:16:17.221214Z"
    },
    "hidden": true
   },
   "outputs": [],
   "source": [
    "# Calculate the recency of each new drug each patient uses\n",
    "rec_rx_claim_new_drug = HMAHCC\\\n",
    "    .query('event_descr == \"RX Claim - New Drug\"')\\\n",
    "    .groupby(['id','Drug_Group_Description'])\\\n",
    "    .Days.max().abs().unstack()\\\n",
    "    .rename(columns=lambda x:'rec_new_'+x)"
   ]
  },
  {
   "cell_type": "markdown",
   "metadata": {
    "heading_collapsed": true,
    "hidden": true
   },
   "source": [
    "## RX Claim - First Time Mail Order"
   ]
  },
  {
   "cell_type": "markdown",
   "metadata": {
    "hidden": true
   },
   "source": [
    "### Frequency"
   ]
  },
  {
   "cell_type": "code",
   "execution_count": 52,
   "metadata": {
    "ExecuteTime": {
     "end_time": "2019-10-13T20:16:17.370214Z",
     "start_time": "2019-10-13T20:16:17.330216Z"
    },
    "code_folding": [],
    "hidden": true
   },
   "outputs": [],
   "source": [
    "# Calculate the frequency of each mail order drug each patient uses\n",
    "freq_rx_claim_mail = HMAHCC\\\n",
    "    .query('event_descr == \"RX Claim - First Time Mail Order\"')\\\n",
    "    .groupby(['id','Drug_Group_Description'])\\\n",
    "    .size().unstack(fill_value=0)\\\n",
    "    .rename(columns=lambda x:'freq_mail_'+x)"
   ]
  },
  {
   "cell_type": "markdown",
   "metadata": {
    "hidden": true
   },
   "source": [
    "### Recency"
   ]
  },
  {
   "cell_type": "code",
   "execution_count": 53,
   "metadata": {
    "ExecuteTime": {
     "end_time": "2019-10-13T20:16:17.419211Z",
     "start_time": "2019-10-13T20:16:17.372215Z"
    },
    "hidden": true
   },
   "outputs": [],
   "source": [
    "# Calculate the recency of each mail order drug each patient uses\n",
    "rec_rx_claim_mail = HMAHCC\\\n",
    "    .query('event_descr == \"RX Claim - First Time Mail Order\"')\\\n",
    "    .groupby(['id','Drug_Group_Description'])\\\n",
    "    .Days.max().abs().unstack()\\\n",
    "    .rename(columns=lambda x:'rec_mail_'+x)"
   ]
  },
  {
   "cell_type": "markdown",
   "metadata": {
    "heading_collapsed": true,
    "hidden": true
   },
   "source": [
    "## Combine Features and Target"
   ]
  },
  {
   "cell_type": "code",
   "execution_count": 54,
   "metadata": {
    "ExecuteTime": {
     "end_time": "2019-10-13T20:16:17.551215Z",
     "start_time": "2019-10-13T20:16:17.421221Z"
    },
    "hidden": true
   },
   "outputs": [],
   "source": [
    "# Calculate # of negative days for each of patient\n",
    "nbr_negative_days = HMAHCC.groupby('id').Days.min().abs().to_frame('nbr_negative_days')"
   ]
  },
  {
   "cell_type": "code",
   "execution_count": 55,
   "metadata": {
    "ExecuteTime": {
     "end_time": "2019-10-13T20:16:17.557214Z",
     "start_time": "2019-10-13T20:16:17.553215Z"
    },
    "hidden": true
   },
   "outputs": [],
   "source": [
    "# Put all the features in a list\n",
    "feature_list = [freq_inbound_call_by_mbr,rec_inbound_call_by_mbr,freq_inbound_call_by_other,\n",
    " rec_inbound_call_by_other,freq_inbound_call_by_prov,rec_inbound_call_by_prov,freq_diag_fully_paid_claim,\n",
    " rec_diag_fully_paid_claim,mon_full_paid_claim,freq_new_diag,rec_new_diag,freq_surgery_diag,\n",
    " freq_surgery_place,rec_surgery_place,freq_new_provider,rec_new_provider,freq_rx_claim_paid,\n",
    " rec_rx_claim_paid,mon_rx_claim_paid,pay_day_supply_cnt,MME,freq_MME,rec_MME,drug_type,specialty,\n",
    " freq_rx_claim_new_drug,rec_rx_claim_new_drug,freq_rx_claim_mail,rec_rx_claim_mail]"
   ]
  },
  {
   "cell_type": "code",
   "execution_count": 56,
   "metadata": {
    "ExecuteTime": {
     "end_time": "2019-10-13T20:16:17.617214Z",
     "start_time": "2019-10-13T20:16:17.559214Z"
    },
    "hidden": true
   },
   "outputs": [],
   "source": [
    "# Concat all features into one dataframe\n",
    "features = pd.concat(feature_list,axis=1,sort=False)"
   ]
  },
  {
   "cell_type": "code",
   "execution_count": 57,
   "metadata": {
    "ExecuteTime": {
     "end_time": "2019-10-13T20:16:17.646225Z",
     "start_time": "2019-10-13T20:16:17.619217Z"
    },
    "hidden": true
   },
   "outputs": [],
   "source": [
    "# Join features with target variable, and join with # of negative days\n",
    "design_matrix = pd.merge(features,nbr_negative_days,how='inner',left_index=True,right_index=True)"
   ]
  },
  {
   "cell_type": "code",
   "execution_count": 58,
   "metadata": {
    "ExecuteTime": {
     "end_time": "2019-10-13T20:16:18.062252Z",
     "start_time": "2019-10-13T20:16:17.649217Z"
    },
    "hidden": true
   },
   "outputs": [],
   "source": [
    "# Normalize frequency by number of days\n",
    "design_matrix.loc[:,design_matrix.columns.str.contains('freq_')] = design_matrix.loc[:,design_matrix.columns.str.contains('freq_')]\\\n",
    "    .apply(lambda col:col/design_matrix.nbr_negative_days)\n",
    "design_matrix.drop(columns=['nbr_negative_days'],inplace=True)"
   ]
  },
  {
   "cell_type": "code",
   "execution_count": 59,
   "metadata": {
    "ExecuteTime": {
     "end_time": "2019-10-13T20:16:18.069217Z",
     "start_time": "2019-10-13T20:16:18.064212Z"
    },
    "hidden": true
   },
   "outputs": [
    {
     "data": {
      "text/plain": [
       "(5998, 460)"
      ]
     },
     "execution_count": 59,
     "metadata": {},
     "output_type": "execute_result"
    }
   ],
   "source": [
    "design_matrix.shape"
   ]
  },
  {
   "cell_type": "code",
   "execution_count": 60,
   "metadata": {
    "ExecuteTime": {
     "end_time": "2019-10-13T20:16:18.371247Z",
     "start_time": "2019-10-13T20:16:18.071214Z"
    },
    "hidden": true
   },
   "outputs": [],
   "source": [
    "# Save design matrix to parquet\n",
    "design_matrix.to_parquet('design_matrix_holdout.parquet')"
   ]
  },
  {
   "cell_type": "markdown",
   "metadata": {
    "heading_collapsed": true
   },
   "source": [
    "# Modeling"
   ]
  },
  {
   "cell_type": "code",
   "execution_count": 69,
   "metadata": {
    "ExecuteTime": {
     "end_time": "2019-10-13T20:18:39.172544Z",
     "start_time": "2019-10-13T20:18:39.124561Z"
    },
    "hidden": true
   },
   "outputs": [],
   "source": [
    "# Read in design matrix\n",
    "design_matrix = pd.read_parquet('design_matrix_holdout.parquet')"
   ]
  },
  {
   "cell_type": "code",
   "execution_count": 62,
   "metadata": {
    "ExecuteTime": {
     "end_time": "2019-10-13T20:16:18.542295Z",
     "start_time": "2019-10-13T20:16:18.427241Z"
    },
    "hidden": true
   },
   "outputs": [],
   "source": [
    "#load saved model\n",
    "xgb = joblib.load('xgb.model')"
   ]
  },
  {
   "cell_type": "code",
   "execution_count": 63,
   "metadata": {
    "ExecuteTime": {
     "end_time": "2019-10-13T20:16:18.624213Z",
     "start_time": "2019-10-13T20:16:18.544215Z"
    },
    "hidden": true
   },
   "outputs": [],
   "source": [
    "# Make the columns in hold out set the same as in training set\n",
    "design_matrix = design_matrix\\\n",
    "    .assign(**{col:0 for col in set(xgb.get_booster().feature_names) - set(design_matrix.columns)})\\\n",
    "    .drop(list(set(design_matrix.columns) - set(xgb.get_booster().feature_names)),axis=1)\\\n",
    "    [xgb.get_booster().feature_names]"
   ]
  },
  {
   "cell_type": "code",
   "execution_count": 64,
   "metadata": {
    "ExecuteTime": {
     "end_time": "2019-10-13T20:16:18.713216Z",
     "start_time": "2019-10-13T20:16:18.626215Z"
    },
    "hidden": true
   },
   "outputs": [],
   "source": [
    "# Predict probability of holdout set\n",
    "y_pred = xgb.predict_proba(design_matrix)"
   ]
  },
  {
   "cell_type": "code",
   "execution_count": 66,
   "metadata": {
    "ExecuteTime": {
     "end_time": "2019-10-13T20:16:36.705649Z",
     "start_time": "2019-10-13T20:16:36.612648Z"
    },
    "hidden": true
   },
   "outputs": [],
   "source": [
    "# Concat prediction and ID, and create rank for each patient. For ties, use min method\n",
    "prediction = pd.Series(y_pred[:,1],index=design_matrix.index,name='SCORE')\\\n",
    "    .to_frame()\\\n",
    "    .reindex(HMAHCC_COMP.id.unique(),fill_value=0)\\\n",
    "    .assign(RANK=lambda df:df.SCORE.rank(method='min',ascending=False))\\\n",
    "    .reset_index()\\\n",
    "    .rename(columns={'index':'ID'})\\\n",
    "    .sort_values('RANK')"
   ]
  },
  {
   "cell_type": "code",
   "execution_count": 67,
   "metadata": {
    "ExecuteTime": {
     "end_time": "2019-10-13T20:16:45.447650Z",
     "start_time": "2019-10-13T20:16:45.396650Z"
    },
    "hidden": true
   },
   "outputs": [],
   "source": [
    "# Save prediction to csv\n",
    "prediction.to_csv('CaseCompetition_Yueyi_Wang.csv',index=False)"
   ]
  },
  {
   "cell_type": "code",
   "execution_count": null,
   "metadata": {
    "hidden": true
   },
   "outputs": [],
   "source": []
  }
 ],
 "metadata": {
  "hide_input": false,
  "kernelspec": {
   "display_name": "Python 3",
   "language": "python",
   "name": "python3"
  },
  "language_info": {
   "codemirror_mode": {
    "name": "ipython",
    "version": 3
   },
   "file_extension": ".py",
   "mimetype": "text/x-python",
   "name": "python",
   "nbconvert_exporter": "python",
   "pygments_lexer": "ipython3",
   "version": "3.7.4"
  },
  "toc": {
   "base_numbering": 1,
   "nav_menu": {},
   "number_sections": true,
   "sideBar": true,
   "skip_h1_title": false,
   "title_cell": "Table of Contents",
   "title_sidebar": "Contents",
   "toc_cell": false,
   "toc_position": {},
   "toc_section_display": true,
   "toc_window_display": false
  },
  "varInspector": {
   "cols": {
    "lenName": 16,
    "lenType": 16,
    "lenVar": 40
   },
   "kernels_config": {
    "python": {
     "delete_cmd_postfix": "",
     "delete_cmd_prefix": "del ",
     "library": "var_list.py",
     "varRefreshCmd": "print(var_dic_list())"
    },
    "r": {
     "delete_cmd_postfix": ") ",
     "delete_cmd_prefix": "rm(",
     "library": "var_list.r",
     "varRefreshCmd": "cat(var_dic_list()) "
    }
   },
   "types_to_exclude": [
    "module",
    "function",
    "builtin_function_or_method",
    "instance",
    "_Feature"
   ],
   "window_display": false
  }
 },
 "nbformat": 4,
 "nbformat_minor": 2
}
